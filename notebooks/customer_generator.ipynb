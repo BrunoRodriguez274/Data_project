{
 "cells": [
  {
   "cell_type": "code",
   "execution_count": 2,
   "metadata": {},
   "outputs": [],
   "source": [
    "import random\n",
    "import pandas as pd\n",
    "from faker import Faker\n",
    "import datetime as dt\n",
    "import matplotlib.pyplot as plt\n",
    "import numpy as np\n"
   ]
  },
  {
   "cell_type": "markdown",
   "metadata": {},
   "source": [
    "## Functions"
   ]
  },
  {
   "cell_type": "code",
   "execution_count": 3,
   "metadata": {},
   "outputs": [],
   "source": [
    "fake = Faker('es_MX')"
   ]
  },
  {
   "cell_type": "code",
   "execution_count": 4,
   "metadata": {},
   "outputs": [],
   "source": [
    "def eval_name(name_: str) -> bool:\n",
    "\n",
    "    if \" \" not in name_:\n",
    "        return True\n",
    "\n",
    "    name1, name2 = name_.split()[0], name_.split()[-1]\n",
    "\n",
    "    if (name1[-1]==\"o\" and name2[-1] == \"a\") or (name1[-1]==\"a\" and name2[-1] == \"o\"):\n",
    "\n",
    "        return True\n",
    "    \n",
    "    else:\n",
    "        return False\n",
    "    \n",
    "def create_name(gender_: bool) ->str:\n",
    "    \n",
    "    names = [fake.first_name_female,fake.first_name_male]\n",
    "\n",
    "    conditions = True\n",
    "    while conditions:\n",
    "        temp = []\n",
    "        for i in range(random.randint(1,2)):\n",
    "            temp.append(names[gender_]())\n",
    "\n",
    "        name = \" \".join(temp)\n",
    "        if len(name.split()) >= 3:\n",
    "            continue\n",
    "\n",
    "        conditions = eval_name(name)\n",
    "\n",
    "    return name\n",
    "\n",
    "def bounded_normal_integer(mean_, var_, l_bound_ = None, u_bound_ = None) -> int:\n",
    "\n",
    "    value = int(np.random.normal(mean_, var_))\n",
    "\n",
    "    if l_bound_ is not None:\n",
    "    \n",
    "        value = max(value, l_bound_)\n",
    "\n",
    "    if u_bound_ is not None:\n",
    "    \n",
    "        value = min(value, u_bound_)\n",
    "\n",
    "    return value\n",
    "\n",
    "def compute_centroid(points : list) -> float:\n",
    "\n",
    "    A = 0\n",
    "    Cx = 0\n",
    "    Cy = 0\n",
    "\n",
    "    points.append(points[0])\n",
    "    for i in range(len(points)-1):\n",
    "\n",
    "        x_i, y_i = points[i]\n",
    "        x_ii, y_ii = points[i+1]\n",
    "        \n",
    "        print(x_i, y_i, \"---->\", x_ii, y_ii)\n",
    "\n",
    "        A += ((x_i*y_ii)-(x_ii*y_i))\n",
    "        Cx += (x_i+x_ii)*((x_i*y_ii)-(x_ii*y_i))\n",
    "        Cy += (y_i+y_ii)*((x_i*y_ii)-(x_ii*y_i))\n",
    "        \n",
    "    A_tot = (1/2)*A\n",
    "    Cx = (1/(6*A_tot))*Cx\n",
    "    Cy = (1/(6*A_tot))*Cy\n",
    "\n",
    "    return (Cx, Cy)\n"
   ]
  },
  {
   "cell_type": "code",
   "execution_count": 5,
   "metadata": {},
   "outputs": [
    {
     "data": {
      "text/plain": [
       "{'name': 'Andrés Eva',\n",
       " 'last_name': 'Alonzo Moya',\n",
       " 'gender': True,\n",
       " 'birth_date': datetime.datetime(2000, 7, 6, 0, 0)}"
      ]
     },
     "execution_count": 5,
     "metadata": {},
     "output_type": "execute_result"
    }
   ],
   "source": [
    "# Cols: ['name', 'last_name', 'gender', 'birth_date', 'phone_number', 'email', 'adress']\n",
    "\n",
    "gender = random.choice([True, False])\n",
    "birth_date = random.choice(pd.date_range(\"1950-01-01\", \"2019-01-01\")).date()\n",
    "\n",
    "{\"name\" : create_name(gender),\n",
    " \"last_name\" : \" \".join([fake.last_name(), fake.last_name()] ),\n",
    " \"gender\" : gender, \n",
    " \"birth_date\" : dt.datetime(random.choices([bounded_normal_integer(1990, 8, 1950), bounded_normal_integer(2005, 3, 1950)], weights= [0.5,0.5], k=1)[0],\\\n",
    "                            birth_date.month,\\\n",
    "                                birth_date.day)\n",
    " }\n"
   ]
  },
  {
   "cell_type": "code",
   "execution_count": 6,
   "metadata": {},
   "outputs": [],
   "source": [
    "gto_polig = {\"Yerbabuena\" : [(20.974300, -101.300626),\n",
    "                             (20.946278, -101.298483),\n",
    "                             (20.951706, -101.264939),\n",
    "                             (20.979447, -101.274624),\n",
    "                             (20.985938, -101.285636)],\n",
    "                             \"Marfil\" : [(20.979212, -101.292779),\n",
    "                                         (20.991242, -101.304647),\n",
    "                                         (21.006043, -101.294156),\n",
    "                                         (21.019272, -101.283363),\n",
    "                                         (21.008196, -101.275124),\n",
    "                                         (20.999863, -101.285270),\n",
    "                                         (20.989350, -101.285501)],\n",
    "                                         \"Guanajuato\" : [(21.001685, -101.236267),\n",
    "                                                         (21.004701, -101.254310),\n",
    "                                                         (21.008850, -101.274008),\n",
    "                                                         (21.023665, -101.277944),\n",
    "                                                         (21.034640, -101.259223),\n",
    "                                                         (21.026755, -101.241643)]}"
   ]
  },
  {
   "cell_type": "code",
   "execution_count": null,
   "metadata": {},
   "outputs": [
    {
     "name": "stdout",
     "output_type": "stream",
     "text": [
      "20.9743 -101.300626 ----> 20.946278 -101.298483\n",
      "20.946278 -101.298483 ----> 20.951706 -101.264939\n",
      "20.951706 -101.264939 ----> 20.979447 -101.274624\n",
      "20.979447 -101.274624 ----> 20.985938 -101.285636\n",
      "20.985938 -101.285636 ----> 20.9743 -101.300626\n",
      "20.9743 -101.300626 ----> 20.9743 -101.300626\n",
      "20.9743 -101.300626 ----> 20.9743 -101.300626\n",
      "20.9743 -101.300626 ----> 20.9743 -101.300626\n",
      "20.9743 -101.300626 ----> 20.9743 -101.300626\n",
      "20.9743 -101.300626 ----> 20.9743 -101.300626\n",
      "20.9743 -101.300626 ----> 20.9743 -101.300626\n",
      "20.979212 -101.292779 ----> 20.991242 -101.304647\n",
      "20.991242 -101.304647 ----> 21.006043 -101.294156\n",
      "21.006043 -101.294156 ----> 21.019272 -101.283363\n",
      "21.019272 -101.283363 ----> 21.008196 -101.275124\n",
      "21.008196 -101.275124 ----> 20.999863 -101.28527\n",
      "20.999863 -101.28527 ----> 20.98935 -101.285501\n",
      "20.98935 -101.285501 ----> 20.979212 -101.292779\n",
      "20.979212 -101.292779 ----> 20.979212 -101.292779\n",
      "20.979212 -101.292779 ----> 20.979212 -101.292779\n",
      "20.979212 -101.292779 ----> 20.979212 -101.292779\n",
      "20.979212 -101.292779 ----> 20.979212 -101.292779\n",
      "20.979212 -101.292779 ----> 20.979212 -101.292779\n",
      "20.979212 -101.292779 ----> 20.979212 -101.292779\n",
      "21.001685 -101.236267 ----> 21.004701 -101.25431\n",
      "21.004701 -101.25431 ----> 21.00885 -101.274008\n",
      "21.00885 -101.274008 ----> 21.023665 -101.277944\n",
      "21.023665 -101.277944 ----> 21.03464 -101.259223\n",
      "21.03464 -101.259223 ----> 21.026755 -101.241643\n",
      "21.026755 -101.241643 ----> 21.001685 -101.236267\n",
      "21.001685 -101.236267 ----> 21.001685 -101.236267\n",
      "21.001685 -101.236267 ----> 21.001685 -101.236267\n",
      "21.001685 -101.236267 ----> 21.001685 -101.236267\n",
      "21.001685 -101.236267 ----> 21.001685 -101.236267\n",
      "21.001685 -101.236267 ----> 21.001685 -101.236267\n",
      "21.001685 -101.236267 ----> 21.001685 -101.236267\n"
     ]
    },
    {
     "data": {
      "image/png": "[encoded data removed]",
      "text/plain": [
       "<Figure size 432x288 with 1 Axes>"
      ]
     },
     "metadata": {
      "needs_background": "light"
     },
     "output_type": "display_data"
    }
   ],
   "source": [
    "for key in gto_polig.keys():\n",
    "    lat =[]\n",
    "    lon =[]\n",
    "    for x,y in gto_polig[key]:\n",
    "        lat.append(x)\n",
    "        lon.append(y)\n",
    "\n",
    "    x,y = compute_centroid(gto_polig[key])\n",
    "    plt.plot(lon, lat, label = key)\n",
    "    plt.plot(y, x, \"*\")\n",
    "    plt.legend()\n",
    "plt.show()\n",
    "    "
   ]
  },
  {
   "cell_type": "code",
   "execution_count": null,
   "metadata": {},
   "outputs": [],
   "source": []
  }
 ],
 "metadata": {
  "kernelspec": {
   "display_name": "Python 3",
   "language": "python",
   "name": "python3"
  },
  "language_info": {
   "codemirror_mode": {
    "name": "ipython",
    "version": 3
   },
   "file_extension": ".py",
   "mimetype": "text/x-python",
   "name": "python",
   "nbconvert_exporter": "python",
   "pygments_lexer": "ipython3",
   "version": "3.10.12"
  }
 },
 "nbformat": 4,
 "nbformat_minor": 2
}
